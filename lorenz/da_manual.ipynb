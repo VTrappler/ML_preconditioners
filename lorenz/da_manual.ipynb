{
 "cells": [
  {
   "cell_type": "code",
   "execution_count": 1,
   "metadata": {},
   "outputs": [
    {
     "name": "stderr",
     "output_type": "stream",
     "text": [
      "/opt/conda/lib/python3.10/site-packages/tqdm/auto.py:21: TqdmWarning: IProgress not found. Please update jupyter and ipywidgets. See https://ipywidgets.readthedocs.io/en/stable/user_install.html\n",
      "  from .autonotebook import tqdm as notebook_tqdm\n",
      "/opt/conda/lib/python3.10/site-packages/pydantic/_internal/_fields.py:127: UserWarning: Field \"model_server_url\" has conflict with protected namespace \"model_\".\n",
      "\n",
      "You may be able to resolve this warning by setting `model_config['protected_namespaces'] = ()`.\n",
      "  warnings.warn(\n",
      "/opt/conda/lib/python3.10/site-packages/pydantic/_internal/_config.py:269: UserWarning: Valid config keys have changed in V2:\n",
      "* 'schema_extra' has been renamed to 'json_schema_extra'\n",
      "  warnings.warn(message, UserWarning)\n",
      "INFO:torch.distributed.nn.jit.instantiator:Created a temporary directory at /tmp/tmpk4s0ofb1\n",
      "INFO:torch.distributed.nn.jit.instantiator:Writing /tmp/tmpk4s0ofb1/_remote_module_non_scriptable.py\n"
     ]
    },
    {
     "data": {
      "text/plain": [
       "<Figure size 800x550 with 0 Axes>"
      ]
     },
     "metadata": {},
     "output_type": "display_data"
    }
   ],
   "source": [
    "import matplotlib.pyplot as plt\n",
    "import numpy as np\n",
    "from omegaconf import OmegaConf\n",
    "\n",
    "plt.style.use(\"seaborn-v0_8\")\n",
    "import argparse\n",
    "import logging\n",
    "import os\n",
    "\n",
    "from DA_PoC.common.observation_operator import (\n",
    "    IdentityObservationOperator,\n",
    ")  # RandomObservationOperator,; LinearObervationOperator,\n",
    "from DA_PoC.dynamical_systems.lorenz_numerical_model import (\n",
    "    LorenzWrapper,\n",
    "    burn_model,\n",
    "    create_lorenz_model_observation,\n",
    ")\n",
    "from DA_PoC.variational.incrementalCG import Incremental4DVarCG, pad_ragged\n",
    "\n",
    "logging.basicConfig(level=logging.INFO)\n",
    "logs_path = os.path.join(os.sep, \"root\", \"log_dump\", \"smoke\")\n",
    "exp_path = os.path.join(os.sep, \"home\", \"lorenz\")\n",
    "artifacts_path = os.path.join(exp_path, \"artifacts\")\n",
    "plt.set_cmap(\"magma\")\n",
    "\n",
    "import torch\n",
    "import yaml\n",
    "import sys\n",
    "sys.path.append('..')\n",
    "from prec_models import construct_model_class\n",
    "from prec_models.models_spectral import SVDConvolutional\n",
    "\n",
    "\n",
    "rng = np.random.default_rng(seed=93)\n",
    "\n"
   ]
  },
  {
   "cell_type": "code",
   "execution_count": 10,
   "metadata": {},
   "outputs": [
    {
     "data": {
      "text/plain": [
       "dummy(\n",
       "  (layers): ConvLayersSVD(\n",
       "    (dilations_layers): ParallelConv1DDilations(\n",
       "      (conv_layers_dilations): ModuleList(\n",
       "        (0): Conv1d(1, 1, kernel_size=(5,), stride=(1,), padding=(2,), bias=False, padding_mode=circular)\n",
       "        (1): Conv1d(1, 1, kernel_size=(5,), stride=(1,), padding=(4,), dilation=(2,), bias=False, padding_mode=circular)\n",
       "        (2): Conv1d(1, 1, kernel_size=(5,), stride=(1,), padding=(8,), dilation=(4,), bias=False, padding_mode=circular)\n",
       "      )\n",
       "    )\n",
       "    (convlayers_vec): PeriodicConv1DBlock(\n",
       "      (layers_vec): Sequential(\n",
       "        (0): Conv1d(4, 95, kernel_size=(5,), stride=(1,), padding=(2,), padding_mode=circular)\n",
       "        (1): BatchNorm1d(95, eps=1e-05, momentum=0.1, affine=True, track_running_stats=True)\n",
       "        (2): LeakyReLU(negative_slope=0.01)\n",
       "        (3): Conv1d(95, 95, kernel_size=(5,), stride=(1,), padding=(2,), padding_mode=circular)\n",
       "        (4): BatchNorm1d(95, eps=1e-05, momentum=0.1, affine=True, track_running_stats=True)\n",
       "        (5): LeakyReLU(negative_slope=0.01)\n",
       "        (6): Conv1d(95, 95, kernel_size=(5,), stride=(1,), padding=(2,), padding_mode=circular)\n",
       "        (7): BatchNorm1d(95, eps=1e-05, momentum=0.1, affine=True, track_running_stats=True)\n",
       "        (8): LeakyReLU(negative_slope=0.01)\n",
       "        (9): Conv1d(95, 95, kernel_size=(5,), stride=(1,), padding=(2,), padding_mode=circular)\n",
       "        (10): BatchNorm1d(95, eps=1e-05, momentum=0.1, affine=True, track_running_stats=True)\n",
       "        (11): LeakyReLU(negative_slope=0.01)\n",
       "        (12): Conv1d(95, 95, kernel_size=(5,), stride=(1,), padding=(2,), padding_mode=circular)\n",
       "        (13): BatchNorm1d(95, eps=1e-05, momentum=0.1, affine=True, track_running_stats=True)\n",
       "        (14): LeakyReLU(negative_slope=0.01)\n",
       "      )\n",
       "    )\n",
       "    (mlp_block): Sequential(\n",
       "      (0): Linear(in_features=9500, out_features=9500, bias=True)\n",
       "    )\n",
       "    (param_sig): ParamSigmoid(\n",
       "      (sigmoid): Sigmoid()\n",
       "    )\n",
       "    (mlp_singval): Sequential(\n",
       "      (0): Linear(in_features=9500, out_features=95, bias=True)\n",
       "      (1): ParamSigmoid(\n",
       "        (sigmoid): Sigmoid()\n",
       "      )\n",
       "    )\n",
       "  )\n",
       ")"
      ]
     },
     "execution_count": 10,
     "metadata": {},
     "output_type": "execute_result"
    }
   ],
   "source": [
    "\n",
    "with open(\"/home/GNlearning/lorenz/artifacts/mlflow_run_id.yaml\", \"r\") as fstream:\n",
    "    run_id_yaml = yaml.safe_load(fstream)\n",
    "    run_id = run_id_yaml[\"run_id\"]\n",
    "    data_path = run_id_yaml[\"data_path\"]\n",
    "    model_path = run_id_yaml[\"model_path\"]\n",
    "# \"/home/data/data_data_assimilation/lorenz/tmp_model_storage/3c49c47492ef4b54a1431d661b89ea71/config.yaml\"\n",
    "# config = OmegaConf.load(\n",
    "#     os.path.join(os.sep, *model_path.split(\"/\")[:-1], \"config.yaml\")\n",
    "# )\n",
    "config = OmegaConf.load(\"/home/data/data_data_assimilation/lorenz/tmp_model_storage/3c49c47492ef4b54a1431d661b89ea71/config.yaml\")\n",
    "model_classes = {\"SVDConvolutional\": SVDConvolutional}\n",
    "torch_model = construct_model_class(\n",
    "    model_classes[config[\"architecture\"][\"class\"]],\n",
    "    rank=config[\"architecture\"][\"rank\"],\n",
    ")\n",
    "state_dimension = config[\"model\"][\"dimension\"]\n",
    "loaded_model = torch_model(\n",
    "    state_dimension=state_dimension, config=config[\"architecture\"]\n",
    ")\n",
    "\n",
    "loaded_model.load_state_dict(torch.load(os.path.join(os.sep, 'home', *model_path.split('/'))))#{}, model_path)))\n",
    "loaded_model.eval()"
   ]
  },
  {
   "cell_type": "code",
   "execution_count": 7,
   "metadata": {},
   "outputs": [
    {
     "data": {
      "text/plain": [
       "'/data/data_data_assimilation/lorenz/tmp_model_storage/3c49c47492ef4b54a1431d661b89ea71/model.pth'"
      ]
     },
     "execution_count": 7,
     "metadata": {},
     "output_type": "execute_result"
    }
   ],
   "source": []
  },
  {
   "cell_type": "code",
   "execution_count": null,
   "metadata": {},
   "outputs": [],
   "source": [
    "\n",
    "def main(config, n, loaded_model=None):\n",
    "    if n is None:\n",
    "        n = config[\"model\"][\"dimension\"]\n",
    "    window = 20\n",
    "    lorenz = LorenzWrapper(n)\n",
    "    x0_t = burn_model(lorenz, 1000)\n",
    "    lorenz.n_total_obs = window\n",
    "\n",
    "    m = n * (window + 1)\n",
    "    lorenz.set_observations(window)\n",
    "    lorenz.H = lambda x: x\n",
    "    lorenz.background = np.zeros(n)\n",
    "    lorenz.background_error_cov_inv = np.zeros((n,n))\n",
    "\n",
    "\n",
    "    identity_obs_operator = IdentityObservationOperator(m)\n",
    "    l_model_randobs = create_lorenz_model_observation(\n",
    "        lorenz, identity_obs_operator, test_consistency=False\n",
    "    )\n",
    "\n",
    "    def get_next_obs(x0):\n",
    "        return lorenz.get_next_observations(\n",
    "            x0,\n",
    "            model_error_sqrt=config[\"DA\"][\"model_error_sqrt\"],\n",
    "            obs_error_sqrt=config[\"DA\"][\"obs_error_sqrt\"],\n",
    "        )\n",
    "\n",
    "    # obs, x_t, truth = get_next_obs(x0_t)\n",
    "\n",
    "    n_cycle = config[\"DA\"][\"n_cycle\"]  # 3\n",
    "    n_outer = config[\"DA\"][\"n_outer\"]  # 10\n",
    "    n_inner = config[\"DA\"][\"n_inner\"]  # 100\n",
    "    log_file = config[\"DA\"][\"log_file\"]\n",
    "\n",
    "\n",
    "    DA_exp_dict = {}\n",
    "\n",
    "    def create_DA_experiment(exp_name, prec):\n",
    "        DA_exp = Incremental4DVarCG(\n",
    "            state_dimension=n,\n",
    "            bounds=None,\n",
    "            numerical_model=l_model_randobs,\n",
    "            observation_operator=identity_obs_operator,\n",
    "            x0_run=x0_t,\n",
    "            x0_analysis=None,\n",
    "            get_next_observations=get_next_obs,\n",
    "            n_cycle=n_cycle,\n",
    "            n_outer=n_outer,\n",
    "            n_inner=n_inner,\n",
    "            prec=prec,\n",
    "            plot=False,\n",
    "            log_append=False,\n",
    "            save_all=True,\n",
    "        )\n",
    "        DA_exp.GNlog_file = log_file\n",
    "        DA_exp.exp_name = exp_name\n",
    "        DA_exp_dict[exp_name] = DA_exp\n",
    "        return DA_exp\n",
    "\n",
    "    DA_baseline = create_DA_experiment(\"baseline\", prec=None)\n",
    "\n",
    "    for exp_name, DA_exp in DA_exp_dict.items():\n",
    "        print(f\"\\n--- {exp_name} ---\\n\")\n",
    "        DA_exp.run()\n",
    "\n",
    "    for i, (exp_name, DA_exp) in enumerate(DA_exp_dict.items()):\n",
    "        DA_exp.plot_residuals_inner_loop(\n",
    "            f\"C{i}\", label=DA_exp.exp_name, cumulative=False\n",
    "        )\n",
    "    plt.legend()\n",
    "    plt.ylim([1e-9, 1e2])\n",
    "    plt.show()\n",
    "    return DA_exp_dict\n",
    "\n"
   ]
  },
  {
   "cell_type": "code",
   "execution_count": 2,
   "metadata": {},
   "outputs": [
    {
     "name": "stdout",
     "output_type": "stream",
     "text": [
      "{'n_cycle': 10, 'n_outer': 5, 'n_inner': 100, 'model_error_sqrt': 1.0, 'obs_error_sqrt': 1.0, 'log_file': '/GNlearning/lorenz/artifacts/DA_logs.csv'}\n"
     ]
    }
   ],
   "source": [
    "config = OmegaConf.load(\"config.yaml\")\n",
    "config['DA']['model_error_sqrt'] = 1.0\n",
    "config['DA']['obs_error_sqrt'] = 1.0\n",
    "config['model']['dim'] = 20\n",
    "print(config['DA'])"
   ]
  },
  {
   "cell_type": "code",
   "execution_count": null,
   "metadata": {},
   "outputs": [
    {
     "name": "stdout",
     "output_type": "stream",
     "text": [
      "Observation operator set already\n",
      "lorenz.cost_function(x0_t)=3394.905083287777\n",
      "numerical_model_lorenz.cost_function(x0_t)=3394.905083287777\n",
      "\n",
      "--- baseline ---\n",
      "\n",
      "    #exp, ncycle, nouter,     f(x),   CGiter, logdet,     cond, condprec\n",
      "baseline,     0,     0, 3383.3364,       24,  59.24, 1.082e+02, 1.082e+02\n",
      "baseline,     0,     1, 1962.9944,       24,  59.22, 1.155e+02, 1.155e+02\n",
      "baseline,     0,     2, 1161.3062,       24,  60.25, 1.764e+02, 1.764e+02\n",
      "baseline,     0,     3, 991.0006,       25,  61.16, 1.951e+02, 1.951e+02\n",
      "baseline,     0,     4, 960.8994,       25,  61.29, 1.880e+02, 1.880e+02\n",
      "    #exp, ncycle, nouter,     f(x),   CGiter, logdet,     cond, condprec\n",
      "baseline,     1,     0, 8819.3027,       26,  60.37, 8.709e+01, 8.709e+01\n",
      "baseline,     1,     1, 5461.2497,       28,  60.93, 1.877e+02, 1.877e+02\n",
      "baseline,     1,     2, 4318.1881,       30,  64.20, 5.766e+02, 5.766e+02\n",
      "baseline,     1,     3, 2146.7682,       30,  63.89, 9.041e+02, 9.041e+02\n",
      "baseline,     1,     4, 3288.2427,       34,  66.42, 3.994e+03, 3.994e+03\n",
      "    #exp, ncycle, nouter,     f(x),   CGiter, logdet,     cond, condprec\n",
      "baseline,     2,     0, 8009.3615,       28,  61.49, 2.464e+02, 2.464e+02\n",
      "baseline,     2,     1, 8127.7220,       30,  62.77, 4.766e+02, 4.766e+02\n",
      "baseline,     2,     2, 5624.6419,       31,  62.79, 6.985e+02, 6.985e+02\n",
      "baseline,     2,     3, 3640.0222,       31,  62.84, 9.633e+02, 9.633e+02\n",
      "baseline,     2,     4, 1966.3492,       32,  63.84, 8.868e+02, 8.868e+02\n",
      "    #exp, ncycle, nouter,     f(x),   CGiter, logdet,     cond, condprec\n",
      "baseline,     3,     0, 13966.0813,       28,  63.67, 1.861e+02, 1.861e+02\n",
      "baseline,     3,     1, 9161.7494,       26,  60.40, 1.327e+02, 1.327e+02\n",
      "baseline,     3,     2, 4744.5638,       28,  64.02, 3.823e+02, 3.823e+02\n"
     ]
    }
   ],
   "source": [
    "DA_exp_dict = main(config=config, n=20)"
   ]
  },
  {
   "cell_type": "code",
   "execution_count": null,
   "metadata": {},
   "outputs": [],
   "source": [
    "baseline = DA_exp_dict[\"baseline\"]"
   ]
  },
  {
   "cell_type": "code",
   "execution_count": null,
   "metadata": {},
   "outputs": [],
   "source": [
    "for k, val in baseline.run_summary.items():\n",
    "    try:\n",
    "        print(f\"{k}, {val.shape}\")\n",
    "    except AttributeError:\n",
    "        try:\n",
    "            print(f\"{k}, {type(val)}, {len(val)}\")\n",
    "        except TypeError:\n",
    "            print(f\"{k}, {type(val)}\")"
   ]
  },
  {
   "cell_type": "code",
   "execution_count": null,
   "metadata": {},
   "outputs": [],
   "source": [
    "plt.subplot(1, 3, 1)\n",
    "plt.imshow(baseline.run_summary['truth_full'])\n",
    "plt.subplot(1, 3, 2)\n",
    "plt.imshow(baseline.run_summary['analysis_full'])\n",
    "plt.subplot(1, 3, 3)\n",
    "plt.imshow((baseline.run_summary['truth_full'] - baseline.run_summary['analysis_full'])**2)\n"
   ]
  },
  {
   "cell_type": "code",
   "execution_count": null,
   "metadata": {},
   "outputs": [],
   "source": [
    "n = 40\n",
    "window = 10\n",
    "lorenz = LorenzWrapper(n)\n",
    "x0_t = burn_model(lorenz, 1000)\n",
    "lorenz.n_total_obs = window\n",
    "\n",
    "m = n * (window + 1)\n",
    "lorenz.background_error_cov_inv = np.zeros((n, n))\n",
    "lorenz.background = np.zeros(n)\n",
    "lorenz.set_observations(nobs=window)\n",
    "lorenz.H = lambda x: x\n",
    "\n",
    "identity_obs_operator = IdentityObservationOperator(m)\n",
    "l_model_randobs = create_lorenz_model_observation(\n",
    "    lorenz, identity_obs_operator, test_consistency=False\n",
    ")\n",
    "\n",
    "def get_next_obs(x0):\n",
    "    return lorenz.get_next_observations(\n",
    "        x0,\n",
    "        model_error_sqrt=config[\"DA\"][\"model_error_sqrt\"],\n",
    "        obs_error_sqrt=config[\"DA\"][\"obs_error_sqrt\"],\n",
    "    )\n",
    "obs, x_t, truth = get_next_obs(np.random.normal(size=n))\n",
    "truth = truth[:, 1:]\n",
    "\n",
    "# self.numerical_model.set_obs(self.observation_operator(obs.reshape(-1)))"
   ]
  },
  {
   "cell_type": "code",
   "execution_count": null,
   "metadata": {},
   "outputs": [],
   "source": [
    "n_cycle = 5\n",
    "n_outer = 5\n",
    "n_inner = 20\n",
    "x0_t = burn_model(lorenz, 1000)"
   ]
  },
  {
   "cell_type": "code",
   "execution_count": null,
   "metadata": {},
   "outputs": [],
   "source": [
    "DA_exp = Incremental4DVarCG(\n",
    "    state_dimension=n,\n",
    "    bounds=None,\n",
    "    numerical_model=l_model_randobs,\n",
    "    observation_operator=identity_obs_operator,\n",
    "    x0_run=x0_t,\n",
    "    x0_analysis=None,\n",
    "    get_next_observations=get_next_obs,\n",
    "    n_cycle=n_cycle,\n",
    "    n_outer=n_outer,\n",
    "    n_inner=n_inner,\n",
    "    prec=None,\n",
    "    plot=False,\n",
    "    log_append=True,\n",
    "    save_all=True,\n",
    ")\n",
    "DA_exp.run('baseline')"
   ]
  },
  {
   "cell_type": "code",
   "execution_count": null,
   "metadata": {},
   "outputs": [],
   "source": [
    "from DA_PoC.common.linearsolver import solve_cg, conjGrad\n",
    "from DA_PoC.common.preconditioned_solvers import PreconditionedSolver\n",
    "\n",
    "\n",
    "# class PreconditionedSolver:\n",
    "#     def __init__(self, tol: float = 1e-8, maxiter: int = 100):\n",
    "#         self.tol = tol\n",
    "#         self.maxiter = maxiter\n",
    "\n",
    "#     def __call__(\n",
    "#         self, A: np.ndarray, b: np.ndarray, x: np.ndarray, maxiter: int = None\n",
    "#     ):\n",
    "#         if maxiter is not None:\n",
    "#             self.maxiter = maxiter\n",
    "#         return conjGrad(A, x, b, tol=self.tol, maxiter=self.maxiter)\n",
    "\n",
    "\n",
    "class PseudoInverseStart(PreconditionedSolver):\n",
    "    def __init__(self, rank: int=5, tol: float = 1e-8, maxiter: int = 100):\n",
    "        super().__init__(tol, maxiter)\n",
    "        self.rank = rank\n",
    "\n",
    "    def __call__(self, A, b, x, maxiter):\n",
    "        U, S, Vt = np.linalg.svd(A)\n",
    "        A_dagger = U[:, :self.rank] @ (S[:self.rank]**(-1) * U[:, :self.rank]).T\n",
    "        return conjGrad(A, A_dagger @ b, b, tol=self.tol, maxiter=self.maxiter, verbose=False)\n",
    "\n",
    "\n",
    "class BalancingPrec(PreconditionedSolver):\n",
    "    def __init__(self, rank: int=5, tol: float = 1e-8, maxiter: int = 100):\n",
    "        super().__init__(tol, maxiter)\n",
    "        self.rank = rank\n",
    "\n",
    "    def __call__(self, A, b, x, maxiter):\n",
    "        U, S, Vt = np.linalg.svd(A)\n",
    "        A_dagger = U[:, :self.rank] @ ((S[:self.rank]**(-1) - 1) * U[:, :self.rank]).T + np.eye(S.shape[0])\n",
    "        return conjGrad(A_dagger @ A, 0*b, A_dagger @ b, tol=self.tol, maxiter=self.maxiter, verbose=False)\n",
    "\n",
    "    def get_prec(self, A):\n",
    "        U, S, Vt = np.linalg.svd(A)\n",
    "        return U[:, :self.rank] @ ((S[:self.rank]**(-1) - 1) * U[:, :self.rank]).T + np.eye(S.shape[0])\n",
    "    \n",
    "    def power_inv(self, A, power):\n",
    "        U, S, Vt = np.linalg.svd(A)\n",
    "        return U[:, :self.rank] @ ((S[:self.rank]**(power) - 1) * U[:, :self.rank]).T + np.eye(S.shape[0])\n",
    "\n",
    "\n",
    "class SplitPrec(PreconditionedSolver):\n",
    "    def __init__(self, rank: int=5, tol: float = 1e-8, maxiter: int = 100):\n",
    "        super().__init__(tol, maxiter)\n",
    "        self.rank = rank\n",
    "    \n",
    "    def power_prec(self, A, power):\n",
    "        U, S, Vt = np.linalg.svd(A)\n",
    "        return U[:, :self.rank] @ ((S[:self.rank]**(power) - 1) * U[:, :self.rank]).T + np.eye(S.shape[0])\n",
    "\n",
    "\n",
    "    def __call__(self, A, b, x, maxiter):\n",
    "        L = self.power_prec(A, power=-0.5)\n",
    "        # Linv = self.power_prec(A, power=0.5)\n",
    "        x_hat, res_dict = conjGrad(L.T @ A @ L, 0*b, L.T @ b, tol=self.tol, maxiter=self.maxiter, verbose=False)\n",
    "        return L @ x_hat, res_dict\n",
    "\n",
    "\n",
    "# A_ = np.random.normal(size=(20, 20))\n",
    "# A = A_.T @ A_\n",
    "# L = BalancingPrec(rank=10).power_inv(A, power=-0.5)\n",
    "# print(L.T @ A @L)\n",
    "# plt.plot(np.linalg.eigvalsh(L.T @ A @ L))\n",
    "# plt.plot(np.linalg.eigvalsh(A))\n",
    "\n",
    "# L2 = BalancingPrec(rank=10).power_inv(A, power=0.5)\n",
    "# L @ L2\n",
    "\n",
    "# np.linalg."
   ]
  },
  {
   "cell_type": "code",
   "execution_count": null,
   "metadata": {},
   "outputs": [],
   "source": [
    "DA_exp.plot_residuals_inner_loop(\"C0\")\n",
    "\n",
    "for i, rank in enumerate([5, 10, 20, 25, 30 ,35, 39]):\n",
    "    DA_pse = Incremental4DVarCG(\n",
    "        state_dimension=n,\n",
    "        bounds=None,\n",
    "        numerical_model=l_model_randobs,\n",
    "        observation_operator=identity_obs_operator,\n",
    "        x0_run=x0_t,\n",
    "        x0_analysis=None,\n",
    "        get_next_observations=get_next_obs,\n",
    "        n_cycle=n_cycle,\n",
    "        n_outer=n_outer,\n",
    "        n_inner=n_inner,\n",
    "        prec=PseudoInverseStart(rank=rank, maxiter=n_inner),\n",
    "        plot=False,\n",
    "        log_append=True,\n",
    "        save_all=True,\n",
    "    )\n",
    "    DA_pse.run(f'pse {i}')\n",
    "    DA_pse.plot_residuals_inner_loop(f\"C{i+1}\", label=f'{rank}')\n",
    "\n",
    "plt.legend()"
   ]
  },
  {
   "cell_type": "code",
   "execution_count": null,
   "metadata": {},
   "outputs": [],
   "source": [
    "class BalancingPrec(PreconditionedSolver):\n",
    "    def __init__(self, rank: int=5, tol: float = 1e-8, maxiter: int = 100):\n",
    "        super().__init__(tol, maxiter)\n",
    "        self.rank = rank\n",
    "\n",
    "    def __call__(self, A, b, x, maxiter):\n",
    "        U, S, Vt = np.linalg.svd(A)\n",
    "        A_dagger = U[:, :self.rank] @ ((S[:self.rank]**(-1) - 1) * U[:, :self.rank]).T + np.eye(S.shape[0])\n",
    "        return conjGrad(A_dagger @ A, 0*b, A_dagger @ b, tol=self.tol, maxiter=self.maxiter, verbose=False)\n",
    "\n",
    "    def get_prec(self, A):\n",
    "        U, S, Vt = np.linalg.svd(A)\n",
    "        return U[:, :self.rank] @ ((S[:self.rank]**(-1) - 1) * U[:, :self.rank]).T + np.eye(S.shape[0])\n",
    "    \n",
    "    def power_inv(self, A, power):\n",
    "        U, S, Vt = np.linalg.svd(A)\n",
    "        return U[:, :self.rank] @ ((S[:self.rank]**(power) - 1) * U[:, :self.rank]).T + np.eye(S.shape[0])\n",
    "\n",
    "\n",
    "class SplitPrec(PreconditionedSolver):\n",
    "    def __init__(self, rank: int=5, tol: float = 1e-8, maxiter: int = 100):\n",
    "        super().__init__(tol, maxiter)\n",
    "        self.rank = rank\n",
    "    \n",
    "    def power_prec(self, A, power):\n",
    "        U, S, Vt = np.linalg.svd(A)\n",
    "        return U[:, :self.rank] @ ((S[:self.rank]**(power) - 1) * U[:, :self.rank]).T + np.eye(S.shape[0])\n",
    "\n",
    "\n",
    "    def __call__(self, A, b, x, maxiter):\n",
    "        L = self.power_prec(A, power=-0.5)\n",
    "        # Linv = self.power_prec(A, power=0.5)\n",
    "        x_hat, res_dict = conjGrad(L.T @ A @ L, 0*b, L.T @ b, tol=self.tol, maxiter=self.maxiter, verbose=False)\n",
    "        return L @ x_hat, res_dict\n",
    "\n",
    "A_ = np.random.normal(size=(20, 20))\n",
    "A = A_.T @ A_\n",
    "x = np.arange(20)\n",
    "SplitPrec()(A, A@x, None, None)\n",
    "# A_ = np.random.normal(size=(20, 20))\n",
    "# A = A_.T @ A_\n",
    "# L = BalancingPrec(rank=10).power_inv(A, power=-0.5)\n",
    "# print(L.T @ A @L)\n",
    "# plt.plot(np.linalg.eigvalsh(L.T @ A @ L))\n",
    "# plt.plot(np.linalg.eigvalsh(A))\n",
    "\n",
    "# L2 = BalancingPrec(rank=10).power_inv(A, power=0.5)\n",
    "# L @ L2\n",
    "\n",
    "# np.linalg."
   ]
  },
  {
   "cell_type": "code",
   "execution_count": null,
   "metadata": {},
   "outputs": [],
   "source": [
    "DA_exp.plot_residuals_inner_loop(\"C0\")\n",
    "\n",
    "for i, rank in enumerate([5, 10, 20, 25, 30 ,35, 39]):\n",
    "    DA_bal = Incremental4DVarCG(\n",
    "        state_dimension=n,\n",
    "        bounds=None,\n",
    "        numerical_model=l_model_randobs,\n",
    "        observation_operator=identity_obs_operator,\n",
    "        x0_run=x0_t,\n",
    "        x0_analysis=None,\n",
    "        get_next_observations=get_next_obs,\n",
    "        n_cycle=n_cycle,\n",
    "        n_outer=n_outer,\n",
    "        n_inner=n_inner,\n",
    "        prec=BalancingPrec(rank=rank, maxiter=n_inner),\n",
    "        plot=False,\n",
    "        log_append=True,\n",
    "        save_all=True,\n",
    "    )\n",
    "    DA_bal.run(f'pse {i}')\n",
    "    DA_bal.plot_residuals_inner_loop(f\"C{i+1}\", label=f'{rank}')\n",
    "\n",
    "plt.legend()"
   ]
  },
  {
   "cell_type": "code",
   "execution_count": null,
   "metadata": {},
   "outputs": [],
   "source": [
    "DA_exp.plot_residuals_inner_loop(\"C0\")\n",
    "for i, rank in enumerate([5, 10, 20, 25, 30 ,35, 39]):\n",
    "    DA_spli = Incremental4DVarCG(\n",
    "        state_dimension=n,\n",
    "        bounds=None,\n",
    "        numerical_model=l_model_randobs,\n",
    "        observation_operator=identity_obs_operator,\n",
    "        x0_run=x0_t,\n",
    "        x0_analysis=None,\n",
    "        get_next_observations=get_next_obs,\n",
    "        n_cycle=n_cycle*2,\n",
    "        n_outer=n_outer*2,\n",
    "        n_inner=n_inner,\n",
    "        prec=SplitPrec(rank=rank, maxiter=n_inner),\n",
    "        plot=False,\n",
    "        log_append=True,\n",
    "        save_all=True,\n",
    "    )\n",
    "    DA_spli.run(f'pse {i}')\n",
    "    DA_spli.plot_residuals_inner_loop(f\"C{i+1}\", label=f'{rank}')\n"
   ]
  },
  {
   "cell_type": "code",
   "execution_count": 3,
   "metadata": {},
   "outputs": [
    {
     "name": "stderr",
     "output_type": "stream",
     "text": [
      "/opt/conda/lib/python3.10/site-packages/pydantic/_internal/_fields.py:127: UserWarning: Field \"model_server_url\" has conflict with protected namespace \"model_\".\n",
      "\n",
      "You may be able to resolve this warning by setting `model_config['protected_namespaces'] = ()`.\n",
      "  warnings.warn(\n",
      "/opt/conda/lib/python3.10/site-packages/pydantic/_internal/_config.py:269: UserWarning: Valid config keys have changed in V2:\n",
      "* 'schema_extra' has been renamed to 'json_schema_extra'\n",
      "  warnings.warn(message, UserWarning)\n"
     ]
    },
    {
     "ename": "MlflowException",
     "evalue": "Run '1fc099175a1946da9db33fe34722a63b' not found",
     "output_type": "error",
     "traceback": [
      "\u001b[0;31m---------------------------------------------------------------------------\u001b[0m",
      "\u001b[0;31mMlflowException\u001b[0m                           Traceback (most recent call last)",
      "\u001b[1;32m/home/GNlearning/lorenz/da_manual.ipynb Cell 16\u001b[0m line \u001b[0;36m6\n\u001b[1;32m      <a href='vscode-notebook-cell://attached-container%2B7b22636f6e7461696e65724e616d65223a226465762d767432222c2273657474696e6773223a7b22686f7374223a227373683a2f2f6f72696f6e3930227d7d/home/GNlearning/lorenz/da_manual.ipynb#X21sdnNjb2RlLXJlbW90ZQ%3D%3D?line=3'>4</a>\u001b[0m \u001b[39mimport\u001b[39;00m \u001b[39mmlflow\u001b[39;00m\n\u001b[1;32m      <a href='vscode-notebook-cell://attached-container%2B7b22636f6e7461696e65724e616d65223a226465762d767432222c2273657474696e6773223a7b22686f7374223a227373683a2f2f6f72696f6e3930227d7d/home/GNlearning/lorenz/da_manual.ipynb#X21sdnNjb2RlLXJlbW90ZQ%3D%3D?line=4'>5</a>\u001b[0m logged_model \u001b[39m=\u001b[39m \u001b[39mf\u001b[39m\u001b[39m\"\u001b[39m\u001b[39mruns:/1fc099175a1946da9db33fe34722a63b/smoke_model\u001b[39m\u001b[39m\"\u001b[39m\n\u001b[0;32m----> <a href='vscode-notebook-cell://attached-container%2B7b22636f6e7461696e65724e616d65223a226465762d767432222c2273657474696e6773223a7b22686f7374223a227373683a2f2f6f72696f6e3930227d7d/home/GNlearning/lorenz/da_manual.ipynb#X21sdnNjb2RlLXJlbW90ZQ%3D%3D?line=5'>6</a>\u001b[0m mlflow\u001b[39m.\u001b[39;49mpyfunc\u001b[39m.\u001b[39;49mget_model_dependencies(logged_model)\n\u001b[1;32m      <a href='vscode-notebook-cell://attached-container%2B7b22636f6e7461696e65724e616d65223a226465762d767432222c2273657474696e6773223a7b22686f7374223a227373683a2f2f6f72696f6e3930227d7d/home/GNlearning/lorenz/da_manual.ipynb#X21sdnNjb2RlLXJlbW90ZQ%3D%3D?line=6'>7</a>\u001b[0m loaded_model \u001b[39m=\u001b[39m mlflow\u001b[39m.\u001b[39mpyfunc\u001b[39m.\u001b[39mload_model(logged_model)\n\u001b[1;32m      <a href='vscode-notebook-cell://attached-container%2B7b22636f6e7461696e65724e616d65223a226465762d767432222c2273657474696e6773223a7b22686f7374223a227373683a2f2f6f72696f6e3930227d7d/home/GNlearning/lorenz/da_manual.ipynb#X21sdnNjb2RlLXJlbW90ZQ%3D%3D?line=7'>8</a>\u001b[0m \u001b[39mprint\u001b[39m(\u001b[39mf\u001b[39m\u001b[39m\"\u001b[39m\u001b[39m{\u001b[39;00mloaded_model\u001b[39m=}\u001b[39;00m\u001b[39m\"\u001b[39m)\n",
      "File \u001b[0;32m/opt/conda/lib/python3.10/site-packages/mlflow/pyfunc/__init__.py:815\u001b[0m, in \u001b[0;36mget_model_dependencies\u001b[0;34m(model_uri, format)\u001b[0m\n\u001b[1;32m    801\u001b[0m \u001b[39mdef\u001b[39;00m \u001b[39mget_model_dependencies\u001b[39m(model_uri, \u001b[39mformat\u001b[39m\u001b[39m=\u001b[39m\u001b[39m\"\u001b[39m\u001b[39mpip\u001b[39m\u001b[39m\"\u001b[39m):  \u001b[39m# pylint: disable=redefined-builtin\u001b[39;00m\n\u001b[1;32m    802\u001b[0m \u001b[39m    \u001b[39m\u001b[39m\"\"\"\u001b[39;00m\n\u001b[1;32m    803\u001b[0m \u001b[39m    :param model_uri: The uri of the model to get dependencies from.\u001b[39;00m\n\u001b[1;32m    804\u001b[0m \u001b[39m    :param format: The format of the returned dependency file. If the ``\"pip\"`` format is\u001b[39;00m\n\u001b[0;32m   (...)\u001b[0m\n\u001b[1;32m    813\u001b[0m \u001b[39m             specifying the model's dependencies.\u001b[39;00m\n\u001b[1;32m    814\u001b[0m \u001b[39m    \"\"\"\u001b[39;00m\n\u001b[0;32m--> 815\u001b[0m     dep_file \u001b[39m=\u001b[39m _get_model_dependencies(model_uri, \u001b[39mformat\u001b[39;49m)\n\u001b[1;32m    817\u001b[0m     \u001b[39mif\u001b[39;00m \u001b[39mformat\u001b[39m \u001b[39m==\u001b[39m \u001b[39m\"\u001b[39m\u001b[39mpip\u001b[39m\u001b[39m\"\u001b[39m:\n\u001b[1;32m    818\u001b[0m         prefix \u001b[39m=\u001b[39m \u001b[39m\"\u001b[39m\u001b[39m%\u001b[39m\u001b[39m\"\u001b[39m \u001b[39mif\u001b[39;00m _is_in_ipython_notebook() \u001b[39melse\u001b[39;00m \u001b[39m\"\u001b[39m\u001b[39m\"\u001b[39m\n",
      "File \u001b[0;32m/opt/conda/lib/python3.10/site-packages/mlflow/pyfunc/__init__.py:746\u001b[0m, in \u001b[0;36m_get_model_dependencies\u001b[0;34m(model_uri, format)\u001b[0m\n\u001b[1;32m    745\u001b[0m \u001b[39mdef\u001b[39;00m \u001b[39m_get_model_dependencies\u001b[39m(model_uri, \u001b[39mformat\u001b[39m\u001b[39m=\u001b[39m\u001b[39m\"\u001b[39m\u001b[39mpip\u001b[39m\u001b[39m\"\u001b[39m):  \u001b[39m# pylint: disable=redefined-builtin\u001b[39;00m\n\u001b[0;32m--> 746\u001b[0m     model_dir \u001b[39m=\u001b[39m _download_artifact_from_uri(model_uri)\n\u001b[1;32m    748\u001b[0m     \u001b[39mdef\u001b[39;00m \u001b[39mget_conda_yaml_path\u001b[39m():\n\u001b[1;32m    749\u001b[0m         model_config \u001b[39m=\u001b[39m _get_flavor_configuration_from_ml_model_file(\n\u001b[1;32m    750\u001b[0m             os\u001b[39m.\u001b[39mpath\u001b[39m.\u001b[39mjoin(model_dir, MLMODEL_FILE_NAME), flavor_name\u001b[39m=\u001b[39mFLAVOR_NAME\n\u001b[1;32m    751\u001b[0m         )\n",
      "File \u001b[0;32m/opt/conda/lib/python3.10/site-packages/mlflow/tracking/artifact_utils.py:100\u001b[0m, in \u001b[0;36m_download_artifact_from_uri\u001b[0;34m(artifact_uri, output_path)\u001b[0m\n\u001b[1;32m     94\u001b[0m \u001b[39m\u001b[39m\u001b[39m\"\"\"\u001b[39;00m\n\u001b[1;32m     95\u001b[0m \u001b[39m:param artifact_uri: The *absolute* URI of the artifact to download.\u001b[39;00m\n\u001b[1;32m     96\u001b[0m \u001b[39m:param output_path: The local filesystem path to which to download the artifact. If unspecified,\u001b[39;00m\n\u001b[1;32m     97\u001b[0m \u001b[39m                    a local output path will be created.\u001b[39;00m\n\u001b[1;32m     98\u001b[0m \u001b[39m\"\"\"\u001b[39;00m\n\u001b[1;32m     99\u001b[0m root_uri, artifact_path \u001b[39m=\u001b[39m _get_root_uri_and_artifact_path(artifact_uri)\n\u001b[0;32m--> 100\u001b[0m \u001b[39mreturn\u001b[39;00m get_artifact_repository(artifact_uri\u001b[39m=\u001b[39;49mroot_uri)\u001b[39m.\u001b[39mdownload_artifacts(\n\u001b[1;32m    101\u001b[0m     artifact_path\u001b[39m=\u001b[39martifact_path, dst_path\u001b[39m=\u001b[39moutput_path\n\u001b[1;32m    102\u001b[0m )\n",
      "File \u001b[0;32m/opt/conda/lib/python3.10/site-packages/mlflow/store/artifact/artifact_repository_registry.py:115\u001b[0m, in \u001b[0;36mget_artifact_repository\u001b[0;34m(artifact_uri)\u001b[0m\n\u001b[1;32m    105\u001b[0m \u001b[39mdef\u001b[39;00m \u001b[39mget_artifact_repository\u001b[39m(artifact_uri):\n\u001b[1;32m    106\u001b[0m \u001b[39m    \u001b[39m\u001b[39m\"\"\"Get an artifact repository from the registry based on the scheme of artifact_uri\u001b[39;00m\n\u001b[1;32m    107\u001b[0m \n\u001b[1;32m    108\u001b[0m \u001b[39m    :param artifact_uri: The artifact store URI. This URI is used to select which artifact\u001b[39;00m\n\u001b[0;32m   (...)\u001b[0m\n\u001b[1;32m    113\u001b[0m \u001b[39m             requirements.\u001b[39;00m\n\u001b[1;32m    114\u001b[0m \u001b[39m    \"\"\"\u001b[39;00m\n\u001b[0;32m--> 115\u001b[0m     \u001b[39mreturn\u001b[39;00m _artifact_repository_registry\u001b[39m.\u001b[39;49mget_artifact_repository(artifact_uri)\n",
      "File \u001b[0;32m/opt/conda/lib/python3.10/site-packages/mlflow/store/artifact/artifact_repository_registry.py:72\u001b[0m, in \u001b[0;36mArtifactRepositoryRegistry.get_artifact_repository\u001b[0;34m(self, artifact_uri)\u001b[0m\n\u001b[1;32m     67\u001b[0m \u001b[39mif\u001b[39;00m repository \u001b[39mis\u001b[39;00m \u001b[39mNone\u001b[39;00m:\n\u001b[1;32m     68\u001b[0m     \u001b[39mraise\u001b[39;00m MlflowException(\n\u001b[1;32m     69\u001b[0m         \u001b[39mf\u001b[39m\u001b[39m\"\u001b[39m\u001b[39mCould not find a registered artifact repository for: \u001b[39m\u001b[39m{\u001b[39;00martifact_uri\u001b[39m}\u001b[39;00m\u001b[39m. \u001b[39m\u001b[39m\"\u001b[39m\n\u001b[1;32m     70\u001b[0m         \u001b[39mf\u001b[39m\u001b[39m\"\u001b[39m\u001b[39mCurrently registered schemes are: \u001b[39m\u001b[39m{\u001b[39;00m\u001b[39mlist\u001b[39m(\u001b[39mself\u001b[39m\u001b[39m.\u001b[39m_registry\u001b[39m.\u001b[39mkeys())\u001b[39m}\u001b[39;00m\u001b[39m\"\u001b[39m\n\u001b[1;32m     71\u001b[0m     )\n\u001b[0;32m---> 72\u001b[0m \u001b[39mreturn\u001b[39;00m repository(artifact_uri)\n",
      "File \u001b[0;32m/opt/conda/lib/python3.10/site-packages/mlflow/store/artifact/runs_artifact_repo.py:26\u001b[0m, in \u001b[0;36mRunsArtifactRepository.__init__\u001b[0;34m(self, artifact_uri)\u001b[0m\n\u001b[1;32m     23\u001b[0m \u001b[39mfrom\u001b[39;00m \u001b[39mmlflow\u001b[39;00m\u001b[39m.\u001b[39;00m\u001b[39mstore\u001b[39;00m\u001b[39m.\u001b[39;00m\u001b[39martifact\u001b[39;00m\u001b[39m.\u001b[39;00m\u001b[39martifact_repository_registry\u001b[39;00m \u001b[39mimport\u001b[39;00m get_artifact_repository\n\u001b[1;32m     25\u001b[0m \u001b[39msuper\u001b[39m()\u001b[39m.\u001b[39m\u001b[39m__init__\u001b[39m(artifact_uri)\n\u001b[0;32m---> 26\u001b[0m uri \u001b[39m=\u001b[39m RunsArtifactRepository\u001b[39m.\u001b[39;49mget_underlying_uri(artifact_uri)\n\u001b[1;32m     27\u001b[0m \u001b[39mself\u001b[39m\u001b[39m.\u001b[39mrepo \u001b[39m=\u001b[39m get_artifact_repository(uri)\n",
      "File \u001b[0;32m/opt/conda/lib/python3.10/site-packages/mlflow/store/artifact/runs_artifact_repo.py:39\u001b[0m, in \u001b[0;36mRunsArtifactRepository.get_underlying_uri\u001b[0;34m(runs_uri)\u001b[0m\n\u001b[1;32m     37\u001b[0m (run_id, artifact_path) \u001b[39m=\u001b[39m RunsArtifactRepository\u001b[39m.\u001b[39mparse_runs_uri(runs_uri)\n\u001b[1;32m     38\u001b[0m tracking_uri \u001b[39m=\u001b[39m get_databricks_profile_uri_from_artifact_uri(runs_uri)\n\u001b[0;32m---> 39\u001b[0m uri \u001b[39m=\u001b[39m get_artifact_uri(run_id, artifact_path, tracking_uri)\n\u001b[1;32m     40\u001b[0m \u001b[39massert\u001b[39;00m \u001b[39mnot\u001b[39;00m RunsArtifactRepository\u001b[39m.\u001b[39mis_runs_uri(uri)  \u001b[39m# avoid an infinite loop\u001b[39;00m\n\u001b[1;32m     41\u001b[0m \u001b[39mreturn\u001b[39;00m add_databricks_profile_info_to_artifact_uri(uri, tracking_uri)\n",
      "File \u001b[0;32m/opt/conda/lib/python3.10/site-packages/mlflow/tracking/artifact_utils.py:47\u001b[0m, in \u001b[0;36mget_artifact_uri\u001b[0;34m(run_id, artifact_path, tracking_uri)\u001b[0m\n\u001b[1;32m     41\u001b[0m     \u001b[39mraise\u001b[39;00m MlflowException(\n\u001b[1;32m     42\u001b[0m         message\u001b[39m=\u001b[39m\u001b[39m\"\u001b[39m\u001b[39mA run_id must be specified in order to obtain an artifact uri!\u001b[39m\u001b[39m\"\u001b[39m,\n\u001b[1;32m     43\u001b[0m         error_code\u001b[39m=\u001b[39mINVALID_PARAMETER_VALUE,\n\u001b[1;32m     44\u001b[0m     )\n\u001b[1;32m     46\u001b[0m store \u001b[39m=\u001b[39m _get_store(tracking_uri)\n\u001b[0;32m---> 47\u001b[0m run \u001b[39m=\u001b[39m store\u001b[39m.\u001b[39;49mget_run(run_id)\n\u001b[1;32m     48\u001b[0m \u001b[39m# Maybe move this method to RunsArtifactRepository so the circular dependency is clearer.\u001b[39;00m\n\u001b[1;32m     49\u001b[0m \u001b[39massert\u001b[39;00m urllib\u001b[39m.\u001b[39mparse\u001b[39m.\u001b[39murlparse(run\u001b[39m.\u001b[39minfo\u001b[39m.\u001b[39martifact_uri)\u001b[39m.\u001b[39mscheme \u001b[39m!=\u001b[39m \u001b[39m\"\u001b[39m\u001b[39mruns\u001b[39m\u001b[39m\"\u001b[39m  \u001b[39m# avoid an infinite loop\u001b[39;00m\n",
      "File \u001b[0;32m/opt/conda/lib/python3.10/site-packages/mlflow/store/tracking/file_store.py:660\u001b[0m, in \u001b[0;36mFileStore.get_run\u001b[0;34m(self, run_id)\u001b[0m\n\u001b[1;32m    656\u001b[0m \u001b[39m\u001b[39m\u001b[39m\"\"\"\u001b[39;00m\n\u001b[1;32m    657\u001b[0m \u001b[39mNote: Will get both active and deleted runs.\u001b[39;00m\n\u001b[1;32m    658\u001b[0m \u001b[39m\"\"\"\u001b[39;00m\n\u001b[1;32m    659\u001b[0m _validate_run_id(run_id)\n\u001b[0;32m--> 660\u001b[0m run_info \u001b[39m=\u001b[39m \u001b[39mself\u001b[39;49m\u001b[39m.\u001b[39;49m_get_run_info(run_id)\n\u001b[1;32m    661\u001b[0m \u001b[39mif\u001b[39;00m run_info \u001b[39mis\u001b[39;00m \u001b[39mNone\u001b[39;00m:\n\u001b[1;32m    662\u001b[0m     \u001b[39mraise\u001b[39;00m MlflowException(\n\u001b[1;32m    663\u001b[0m         \u001b[39mf\u001b[39m\u001b[39m\"\u001b[39m\u001b[39mRun \u001b[39m\u001b[39m'\u001b[39m\u001b[39m{\u001b[39;00mrun_id\u001b[39m}\u001b[39;00m\u001b[39m'\u001b[39m\u001b[39m metadata is in invalid state.\u001b[39m\u001b[39m\"\u001b[39m, databricks_pb2\u001b[39m.\u001b[39mINVALID_STATE\n\u001b[1;32m    664\u001b[0m     )\n",
      "File \u001b[0;32m/opt/conda/lib/python3.10/site-packages/mlflow/store/tracking/file_store.py:684\u001b[0m, in \u001b[0;36mFileStore._get_run_info\u001b[0;34m(self, run_uuid)\u001b[0m\n\u001b[1;32m    682\u001b[0m exp_id, run_dir \u001b[39m=\u001b[39m \u001b[39mself\u001b[39m\u001b[39m.\u001b[39m_find_run_root(run_uuid)\n\u001b[1;32m    683\u001b[0m \u001b[39mif\u001b[39;00m run_dir \u001b[39mis\u001b[39;00m \u001b[39mNone\u001b[39;00m:\n\u001b[0;32m--> 684\u001b[0m     \u001b[39mraise\u001b[39;00m MlflowException(\n\u001b[1;32m    685\u001b[0m         \u001b[39mf\u001b[39m\u001b[39m\"\u001b[39m\u001b[39mRun \u001b[39m\u001b[39m'\u001b[39m\u001b[39m{\u001b[39;00mrun_uuid\u001b[39m}\u001b[39;00m\u001b[39m'\u001b[39m\u001b[39m not found\u001b[39m\u001b[39m\"\u001b[39m, databricks_pb2\u001b[39m.\u001b[39mRESOURCE_DOES_NOT_EXIST\n\u001b[1;32m    686\u001b[0m     )\n\u001b[1;32m    687\u001b[0m run_info \u001b[39m=\u001b[39m \u001b[39mself\u001b[39m\u001b[39m.\u001b[39m_get_run_info_from_dir(run_dir)\n\u001b[1;32m    688\u001b[0m \u001b[39mif\u001b[39;00m run_info\u001b[39m.\u001b[39mexperiment_id \u001b[39m!=\u001b[39m exp_id:\n",
      "\u001b[0;31mMlflowException\u001b[0m: Run '1fc099175a1946da9db33fe34722a63b' not found"
     ]
    }
   ],
   "source": [
    "import sys\n",
    "sys.path.append('..')\n",
    "\n",
    "import mlflow\n",
    "logged_model = f\"runs:/1fc099175a1946da9db33fe34722a63b/smoke_model\"\n",
    "mlflow.pyfunc.get_model_dependencies(logged_model)\n",
    "loaded_model = mlflow.pyfunc.load_model(logged_model)\n",
    "print(f\"{loaded_model=}\")\n",
    "# except:\n",
    "# loaded_model = None\n",
    "\n",
    "\n",
    "\n",
    "def construct_svd_ML(loaded_model, x_, qr=True):\n",
    "    pred = loaded_model.predict(np.asarray(x_).astype(\"f\"))\n",
    "    Ur, logsvals = pred[:, :-1, :], pred[:, -1, :]\n",
    "    Sr = np.exp(logsvals)\n",
    "    if qr:\n",
    "        Ur = np.linalg.qr(Ur)[0]\n",
    "    return Sr.squeeze(), Ur.squeeze()\n"
   ]
  },
  {
   "cell_type": "code",
   "execution_count": null,
   "metadata": {},
   "outputs": [],
   "source": [
    "state = DA_spli.run_summary['truth_full'][:, -1]\n",
    "GN_mat = l_model_randobs.gauss_newton_hessian_matrix(state)\n",
    "plt.imshow(GN_mat)"
   ]
  },
  {
   "cell_type": "code",
   "execution_count": null,
   "metadata": {},
   "outputs": [],
   "source": [
    "Sr, Ur = construct_svd_ML(loaded_model, x_=state.reshape(1, 40))\n",
    "Ur.shape"
   ]
  },
  {
   "cell_type": "code",
   "execution_count": null,
   "metadata": {},
   "outputs": [],
   "source": [
    "GN_ml = Ur @ (Sr[None, :] * Ur).T"
   ]
  },
  {
   "cell_type": "code",
   "execution_count": null,
   "metadata": {},
   "outputs": [],
   "source": [
    "plt.imshow(GN_mat)\n",
    "plt.colorbar()\n",
    "plt.figure()\n",
    "plt.imshow(GN_ml)\n",
    "plt.colorbar()\n",
    "plt.figure()\n",
    "plt.imshow(GN_mat - GN_ml)\n",
    "plt.colorbar()"
   ]
  },
  {
   "cell_type": "code",
   "execution_count": null,
   "metadata": {},
   "outputs": [],
   "source": [
    "U, S, _ = np.linalg.svd(GN_mat)"
   ]
  },
  {
   "cell_type": "code",
   "execution_count": null,
   "metadata": {},
   "outputs": [],
   "source": [
    "plt.plot(S)\n",
    "plt.plot(np.sort(Sr)[::-1])"
   ]
  },
  {
   "cell_type": "code",
   "execution_count": 7,
   "metadata": {},
   "outputs": [],
   "source": [
    "import pandas as pd, seaborn as sns"
   ]
  },
  {
   "cell_type": "code",
   "execution_count": 8,
   "metadata": {},
   "outputs": [],
   "source": [
    "df = pd.DataFrame([{\"intercept\": 4.43, \"slope\": -0.56, \"name\": \"baseline\"},\n",
    "              {\"intercept\": 4.43, \"slope\": -0.46, \"name\": \"ML\"}])"
   ]
  },
  {
   "cell_type": "code",
   "execution_count": 13,
   "metadata": {},
   "outputs": [
    {
     "name": "stderr",
     "output_type": "stream",
     "text": [
      "/opt/conda/lib/python3.10/site-packages/seaborn/_oldcore.py:1498: FutureWarning: is_categorical_dtype is deprecated and will be removed in a future version. Use isinstance(dtype, CategoricalDtype) instead\n",
      "  if pd.api.types.is_categorical_dtype(vector):\n",
      "/opt/conda/lib/python3.10/site-packages/seaborn/_oldcore.py:1498: FutureWarning: is_categorical_dtype is deprecated and will be removed in a future version. Use isinstance(dtype, CategoricalDtype) instead\n",
      "  if pd.api.types.is_categorical_dtype(vector):\n",
      "/opt/conda/lib/python3.10/site-packages/seaborn/_oldcore.py:1498: FutureWarning: is_categorical_dtype is deprecated and will be removed in a future version. Use isinstance(dtype, CategoricalDtype) instead\n",
      "  if pd.api.types.is_categorical_dtype(vector):\n"
     ]
    },
    {
     "data": {
      "text/plain": [
       "<Axes: xlabel='name', ylabel='intercept'>"
      ]
     },
     "execution_count": 13,
     "metadata": {},
     "output_type": "execute_result"
    },
    {
     "data": {
      "image/png": "[encoded data removed]",
      "text/plain": [
       "<Figure size 640x480 with 1 Axes>"
      ]
     },
     "metadata": {},
     "output_type": "display_data"
    }
   ],
   "source": [
    "sns.barplot(df, y='intercept', x='name')"
   ]
  },
  {
   "cell_type": "code",
   "execution_count": null,
   "metadata": {},
   "outputs": [],
   "source": []
  }
 ],
 "metadata": {
  "kernelspec": {
   "display_name": "base",
   "language": "python",
   "name": "python3"
  },
  "language_info": {
   "codemirror_mode": {
    "name": "ipython",
    "version": 3
   },
   "file_extension": ".py",
   "mimetype": "text/x-python",
   "name": "python",
   "nbconvert_exporter": "python",
   "pygments_lexer": "ipython3",
   "version": "3.10.13"
  },
  "orig_nbformat": 4
 },
 "nbformat": 4,
 "nbformat_minor": 2
}
