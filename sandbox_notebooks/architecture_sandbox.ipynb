{
 "cells": [
  {
   "cell_type": "code",
   "execution_count": 1,
   "id": "2237141e-104e-4644-8fb0-eea3ebd6d306",
   "metadata": {},
   "outputs": [],
   "source": [
    "import sys\n",
    "sys.path.append('..')"
   ]
  },
  {
   "cell_type": "code",
   "execution_count": 2,
   "id": "a864e351-6c18-4438-9724-618ca03b2260",
   "metadata": {},
   "outputs": [],
   "source": [
    "import torch\n",
    "import numpy as np\n",
    "import matplotlib.pyplot as plt"
   ]
  },
  {
   "cell_type": "markdown",
   "id": "5cdb78e7-ce0e-47ad-8361-af898a012e4e",
   "metadata": {},
   "source": [
    "## Circular CNN 1D"
   ]
  },
  {
   "cell_type": "code",
   "execution_count": 3,
   "id": "970280a1-4c05-4d7e-bea6-8c00e5724b84",
   "metadata": {},
   "outputs": [],
   "source": [
    "n_in = 6\n",
    "kernel_size = 3\n",
    "padding_mode = 'circular'\n",
    "conv_layer = torch.nn.Conv1d(1, 1, kernel_size, padding=kernel_size//2, padding_mode=padding_mode, bias=False)\n",
    "# in_channels, out_channels, kernel_size, stride=1, padding=0, dilation=1, groups=1, bias=True, padding_mode='zeros', device=None, dtype=None"
   ]
  },
  {
   "cell_type": "markdown",
   "id": "adf844e4-0a27-4952-aea2-0c8e1faf4974",
   "metadata": {},
   "source": [
    "Set easier weights and input vector for easy visualisation"
   ]
  },
  {
   "cell_type": "code",
   "execution_count": 4,
   "id": "67f5dcf5-101a-4b8e-8ce5-e48c17a8fbda",
   "metadata": {},
   "outputs": [],
   "source": [
    "conv_layer.weight = torch.nn.Parameter(torch.ones_like(conv_layer.weight))"
   ]
  },
  {
   "cell_type": "code",
   "execution_count": 5,
   "id": "3e6db008-9185-4088-9d9c-fd9f7ed2df26",
   "metadata": {},
   "outputs": [],
   "source": [
    "x = torch.linspace(0, n_in - 1, n_in).reshape(1, 1, n_in)"
   ]
  },
  {
   "cell_type": "code",
   "execution_count": 6,
   "id": "26ff68ac-b02a-49f8-9860-4271d4e5920f",
   "metadata": {},
   "outputs": [
    {
     "name": "stdout",
     "output_type": "stream",
     "text": [
      "x.shape=torch.Size([1, 1, 6]), y.shape=torch.Size([1, 1, 6])\n"
     ]
    }
   ],
   "source": [
    "y = conv_layer(x)\n",
    "print(f\"{x.shape=}, {y.shape=}\")"
   ]
  },
  {
   "cell_type": "code",
   "execution_count": 7,
   "id": "bbcbbe15-0aa3-466b-8f53-8e8927cb083c",
   "metadata": {},
   "outputs": [
    {
     "data": {
      "text/plain": [
       "<matplotlib.image.AxesImage at 0x7f3c8ae6c9d0>"
      ]
     },
     "execution_count": 7,
     "metadata": {},
     "output_type": "execute_result"
    },
    {
     "data": {
      "image/png": "[encoded data removed]",
      "text/plain": [
       "<Figure size 432x288 with 1 Axes>"
      ]
     },
     "metadata": {
      "needs_background": "light"
     },
     "output_type": "display_data"
    }
   ],
   "source": [
    "conv_matrix = torch.zeros((n_in, n_in))\n",
    "for i in range(n_in):\n",
    "    conv_matrix[i, i % n_in] = 1.0\n",
    "    for j in range(kernel_size):\n",
    "        conv_matrix[i, (i+j - kernel_size//2) % n_in] = 1.0\n",
    "plt.imshow(conv_matrix)"
   ]
  },
  {
   "cell_type": "code",
   "execution_count": 8,
   "id": "4106066d-fee8-4564-8193-a08392ad3655",
   "metadata": {},
   "outputs": [
    {
     "data": {
      "text/plain": [
       "tensor(True)"
      ]
     },
     "execution_count": 8,
     "metadata": {},
     "output_type": "execute_result"
    }
   ],
   "source": [
    "(conv_matrix @ x.squeeze() == y).all()"
   ]
  },
  {
   "cell_type": "code",
   "execution_count": 9,
   "id": "ff85d54d-6c7f-446b-a2fc-50bf182c1bcc",
   "metadata": {},
   "outputs": [
    {
     "name": "stdout",
     "output_type": "stream",
     "text": [
      "tensor([[[0., 1., 2., 3., 4., 5.]]])\n",
      "tensor([[[ 6.,  3.,  6.,  9., 12.,  9.]]], grad_fn=<SqueezeBackward1>)\n"
     ]
    }
   ],
   "source": [
    "print(x)\n",
    "print(y)"
   ]
  },
  {
   "cell_type": "markdown",
   "id": "305980e6-ec30-4708-81a7-79949f6f4a1e",
   "metadata": {},
   "source": [
    "## Self Attention Layer"
   ]
  },
  {
   "cell_type": "code",
   "execution_count": 10,
   "id": "4f47308a-6da8-4f5c-af1a-ca5bdd7b716e",
   "metadata": {},
   "outputs": [],
   "source": [
    "embed_dim = 1"
   ]
  },
  {
   "cell_type": "code",
   "execution_count": 11,
   "id": "c1d917e8-b6c1-418b-85a2-65061317c5d6",
   "metadata": {},
   "outputs": [],
   "source": [
    "attention_layer = torch.nn.MultiheadAttention(embed_dim=embed_dim, num_heads=1)"
   ]
  },
  {
   "cell_type": "code",
   "execution_count": null,
   "id": "8527d32f-b5b2-4e25-9631-d4765ecd7cd0",
   "metadata": {},
   "outputs": [],
   "source": []
  }
 ],
 "metadata": {
  "kernelspec": {
   "display_name": "Python 3 (ipykernel)",
   "language": "python",
   "name": "python3"
  },
  "language_info": {
   "codemirror_mode": {
    "name": "ipython",
    "version": 3
   },
   "file_extension": ".py",
   "mimetype": "text/x-python",
   "name": "python",
   "nbconvert_exporter": "python",
   "pygments_lexer": "ipython3",
   "version": "3.8.6"
  }
 },
 "nbformat": 4,
 "nbformat_minor": 5
}
